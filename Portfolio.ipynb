{
 "cells": [
  {
   "cell_type": "markdown",
   "metadata": {},
   "source": [
    "# Portfólio - Adriano Freitas"
   ]
  },
  {
   "cell_type": "markdown",
   "metadata": {},
   "source": [
    "Este portfólio lista alguns dos projetos mais relevantes de Adriano Freitas. Todos os projetos tem seu códigos publicados no GitHub, basta clicar nos títulos e será redirecionado para o respectivo repositório."
   ]
  },
  {
   "cell_type": "markdown",
   "metadata": {},
   "source": [
    "**AVISO - [WIP] WORK IN PROGRESS**\n",
    "\n",
    "Este portfolio no momento está em construção, portanto nem todos os projetos contam com sua devida descrição, porém todos os links apontam para seus respectivos *sources* no GitHub."
   ]
  },
  {
   "cell_type": "markdown",
   "metadata": {},
   "source": [
    "## Contato"
   ]
  },
  {
   "cell_type": "markdown",
   "metadata": {},
   "source": [
    "- **LinkedIn**: [linkedin.com/in/adrianofreitas](https://www.linkedin.com/in/adrianofreitas)\n",
    "- **GitHub**: [github.com/adrianogfreitas](https://github.com/adrianogfreitas)\n",
    "- **Link para esse portfolio** (para o caso de tê-lo recebido por algum outro meio): [bit.ly/adriano-freitas-portfolio](https://bit.ly/adriano-freitas-portfolio)\n",
    "- **e-mail**: agf.adriano@gmail.com"
   ]
  },
  {
   "cell_type": "markdown",
   "metadata": {},
   "source": [
    "## Lista de Projetos"
   ]
  },
  {
   "cell_type": "markdown",
   "metadata": {},
   "source": [
    "1. **[Projetos Estratégicos](#strats)**\n",
    "    * 1.1 [ML Belt (WIP)](#ml_belt)\n",
    "2. **[Desafios](#challenges)**\n",
    "    * 2.1 [Nubank](#nubank-data-challenge)\n",
    "    * 2.2 [Ambev](#ambev-data-challenge)\n",
    "3. **[NLP](#nlp)**\n",
    "    * 3.1 [TV Script Generation](#tv-script-generation)\n",
    "    * 3.2 [Keyword Extraction](#keyword-extraction)\n",
    "    * 3.3 [Language Translation](#language-translation)\n",
    "4. **[Processamento de Imagem](#image)**\n",
    "    * 4.1 [Face Generation](#face-generation)\n",
    "    * 4.2 [Classificação de Imagens](#cifar-10-image-classification)\n",
    "5. **[Churn](#churn)**\n",
    "    * 5.1 [Churn em Telecom (WIP)](#telco_churn)\n",
    "6. **[Outros Projetos](#outros)**\n",
    "    * 6.1 [Bike Sharing](#bike-sharing-neural-network)"
   ]
  },
  {
   "cell_type": "markdown",
   "metadata": {},
   "source": [
    "<a id=\"strats\"></a>\n",
    "## Projetos Estratégicos"
   ]
  },
  {
   "cell_type": "markdown",
   "metadata": {},
   "source": [
    "<a id=\"ml_belt\"></a>\n",
    "### [ML Belt (WIP)](https://github.com/adrianogfreitas/ml_belt)"
   ]
  },
  {
   "cell_type": "markdown",
   "metadata": {},
   "source": [
    "Projeto para facilitar tarefas comuns de pré-processamento de datasets. Pode ser instalado via [pip](https://pypi.org/project/ml-belt/) com o comando abaixo:\n",
    "```bash\n",
    "pip install ml_belt\n",
    "```\n",
    "\n",
    "Sua documentação atualizada pode ser encontrada [aqui](https://ml-belt.readthedocs.io/en/latest/), abaixo segue um exemplo de sua utilização:"
   ]
  },
  {
   "cell_type": "markdown",
   "metadata": {},
   "source": [
    "```python\n",
    "from ml_belt.prep import Prep\n",
    "import pandas as pd\n",
    "\n",
    "def custom_fn(df):\n",
    "    '''Do some modifications on df and return it.'''\n",
    "    return df\n",
    "\n",
    "# Prep needs a pandas dataframe\n",
    "prep_df = Prep(pd.read_csv('data.csv')) \\\n",
    "    .drop_nulls(['col1', 'col2']) \\\n",
    "    .bool_to_int(['col3']) \\\n",
    "    .drop_cols(['nosense_col1', 'nosense_col2']) \\\n",
    "    .fill_null_with('mean', ['col_with_nulls', 'another_col_with_nulls']) \\\n",
    "    .fill_null_with(-1, ['col_with_nulls2', 'col_with_nulls3']) \\\n",
    "    .apply_custom(custon_fn) \\\n",
    "    .drop_nulls()\n",
    "\n",
    "# Now you have a modified df \n",
    "# with all steps above\n",
    "df = prep_df.df\n",
    "df.to_csv('data_prep.csv')\n",
    "```"
   ]
  },
  {
   "cell_type": "markdown",
   "metadata": {},
   "source": [
    "O código acima lê uma base de dados e executa as seguintes transformações em sequência:\n",
    "\n",
    "- Remove as linhas que contenham *null* nas colunas `col1` e `col2`\n",
    "- Converte a coluna `col3` de *bool* (`True`, `False`) para *int* (`1`, `0`)\n",
    "- Remove as colunas `nosense_col1` e `nosense_col2`\n",
    "- Preenche os valores *null* das colunas `col_with_nulls` e `another_col_with_nulls` com suas respectivas médias\n",
    "- Preenche os valores *null* das colunas `col_with_nulls2` e `col_with_nulls3` com o valor fixo `-1`\n",
    "- Aplica a função `custom_fn` no *dataframe*. Funções customizadas podem ser escritas para se encaixarem no pipeline, só precisam receber como parâmetro o *dataframe* e retornar o *dataframe* modificado\n",
    "- Remove todos os *nulls* do *dataframe*"
   ]
  },
  {
   "cell_type": "markdown",
   "metadata": {},
   "source": [
    "<a id=\"challenges\"></a>\n",
    "## Desafios"
   ]
  },
  {
   "cell_type": "markdown",
   "metadata": {},
   "source": [
    "<a id=\"nubank-data-challenge\"></a>\n",
    "### [Nubank](https://github.com/adrianogfreitas/nubank_data_challenge)"
   ]
  },
  {
   "cell_type": "markdown",
   "metadata": {},
   "source": [
    "Data Challenge construído através de uma parceria entre Nubank e Udacity. Uma descrição detalhada do problema pode ser encontrada [aqui](https://github.com/adrianogfreitas/nubank_data_challenge/blob/master/questions.md)\n",
    "\n",
    "O objetivo final é construir um algoritmo que possibilite tomar uma decisão de crédito, devendo:\n",
    "- Aprovar ou não um cliente novo\n",
    "- Atribuir um limite inicial\n",
    "\n",
    "Para tanto deverão ser construídos 3 modelos, sendo eles:\n",
    "- Modelo para risco de crédito\n",
    "- Modelo para propensão de gasto\n",
    "- Modelo para prevenção à fraude\n",
    "\n",
    "Como desafio extra, o tempo para entrega do desafio foi de 10 dias corridos."
   ]
  },
  {
   "cell_type": "markdown",
   "metadata": {},
   "source": [
    "<a id=\"ambev-data-challenge\"></a>\n",
    "### [Ambev](https://github.com/adrianogfreitas/ambev-data-challenge)"
   ]
  },
  {
   "cell_type": "markdown",
   "metadata": {},
   "source": [
    "<a id=\"nlp\"></a>\n",
    "## NLP"
   ]
  },
  {
   "cell_type": "markdown",
   "metadata": {},
   "source": [
    "<a id=\"tv-script-generation\"></a>\n",
    "### [TV Script Generation](https://github.com/adrianogfreitas/tv-script-generation)"
   ]
  },
  {
   "cell_type": "markdown",
   "metadata": {},
   "source": [
    "<a id=\"keyword-extraction\"></a>\n",
    "### [Keyword Extraction](https://github.com/adrianogfreitas/keyword-extraction)"
   ]
  },
  {
   "cell_type": "markdown",
   "metadata": {},
   "source": [
    "<a id=\"language-translation\"></a>\n",
    "### [Language Translation](https://github.com/adrianogfreitas/language-translation)"
   ]
  },
  {
   "cell_type": "markdown",
   "metadata": {},
   "source": [
    "<a id=\"image\"></a>\n",
    "## Processamento de Imagem"
   ]
  },
  {
   "cell_type": "markdown",
   "metadata": {},
   "source": [
    "<a id=\"face-generation\"></a>\n",
    "### [Face Generation](https://github.com/adrianogfreitas/face-generation)"
   ]
  },
  {
   "cell_type": "markdown",
   "metadata": {},
   "source": [
    "<a id=\"cifar-10-image-classification\"></a>\n",
    "### [Classificação de Imagens](https://github.com/adrianogfreitas/cifar-10-image-classification)"
   ]
  },
  {
   "cell_type": "markdown",
   "metadata": {},
   "source": [
    "<a id=\"churn\"></a>\n",
    "## Churn"
   ]
  },
  {
   "cell_type": "markdown",
   "metadata": {},
   "source": [
    "<a id=\"telco_churn\"></a>\n",
    "### [Churn em Telecom (WIP)](https://github.com/adrianogfreitas/telco_churn)"
   ]
  },
  {
   "cell_type": "markdown",
   "metadata": {},
   "source": [
    "<a id=\"outros\"></a>\n",
    "## Outros Projetos"
   ]
  },
  {
   "cell_type": "markdown",
   "metadata": {},
   "source": [
    "<a id=\"bike-sharing-neural-network\"></a>\n",
    "### [Bike Sharing](https://github.com/adrianogfreitas/bike-sharing-neural-network)"
   ]
  }
 ],
 "metadata": {
  "kernelspec": {
   "display_name": "Python 3",
   "language": "python",
   "name": "python3"
  },
  "language_info": {
   "codemirror_mode": {
    "name": "ipython",
    "version": 3
   },
   "file_extension": ".py",
   "mimetype": "text/x-python",
   "name": "python",
   "nbconvert_exporter": "python",
   "pygments_lexer": "ipython3",
   "version": "3.7.0"
  }
 },
 "nbformat": 4,
 "nbformat_minor": 4
}
