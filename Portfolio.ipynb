{
 "cells": [
  {
   "cell_type": "markdown",
   "metadata": {},
   "source": [
    "# Lista de Projetos"
   ]
  },
  {
   "cell_type": "markdown",
   "metadata": {},
   "source": [
    "1. **[Projetos Estratégicos](#strats)**\n",
    "    * 1.1 [ML Belt (WIP)](#ml_belt)\n",
    "2. **[Desafios](#challenges)**\n",
    "    * 2.1 [Nubank](#nubank-data-challenge)\n",
    "    * 2.2 [Ambev](#ambev-data-challenge)\n",
    "3. **[NLP](#nlp)**\n",
    "    * 3.1 [TV Script Generation](#tv-script-generation)\n",
    "    * 3.2 [Keyword Extraction](#keyword-extraction)\n",
    "    * 3.3 [Language Translation](#language-translation)\n",
    "4. **[Processamento de Imagem](#image)**\n",
    "    * 4.1 [Face Generation](#face-generation)\n",
    "    * 4.2 [Classificação de Imagens](#cifar-10-image-classification)\n",
    "5. **[Churn](#churn)**\n",
    "    * 5.1 [Churn em Telecom (WIP)](#telco_churn)\n",
    "6. **[Outros Projetos](#outros)**\n",
    "    * 6.1 [Bike Sharing](#bike-sharing-neural-network)"
   ]
  },
  {
   "cell_type": "markdown",
   "metadata": {},
   "source": [
    "<a id=\"strats\"></a>\n",
    "## Projetos Estratégicos"
   ]
  },
  {
   "cell_type": "markdown",
   "metadata": {},
   "source": [
    "<a id=\"ml_belt\"></a>\n",
    "### ML Belt (WIP)"
   ]
  },
  {
   "cell_type": "markdown",
   "metadata": {},
   "source": [
    "Projeto para facilitar tarefas comuns de pré-processamento de datasets. Pode ser instalado via [pip](https://pypi.org/project/ml-belt/) com o comando abaixo:\n",
    "```bash\n",
    "pip install ml_belt\n",
    "```\n",
    "\n",
    "Sua documentação atualizada pode ser encontrada [aqui](https://ml-belt.readthedocs.io/en/latest/), abaixo segue um exemplo de sua utilização:"
   ]
  },
  {
   "cell_type": "markdown",
   "metadata": {},
   "source": [
    "```python\n",
    "from ml_belt.prep import Prep\n",
    "import pandas as pd\n",
    "\n",
    "def custom_fn(df):\n",
    "    '''Do some modifications on df and return it.'''\n",
    "    return df\n",
    "\n",
    "# Prep needs a pandas dataframe\n",
    "prep_df = Prep(pd.read_csv('data.csv')) \\\n",
    "    .drop_nulls(['col1', 'col2']) \\\n",
    "    .bool_to_int(['col3']) \\\n",
    "    .drop_cols(['nosense_col1', 'nosense_col2']) \\\n",
    "    .fill_null_with('mean', ['col_with_nulls', 'another_col_with_nulls']) \\\n",
    "    .fill_null_with(-1, ['col_with_nulls2', 'col_with_nulls3']) \\\n",
    "    .apply_custom(custon_fn) \\\n",
    "    .drop_nulls()\n",
    "\n",
    "# Now you have a modified df \n",
    "# with all steps above\n",
    "df = prep_df.df\n",
    "df.to_csv('data_prep.csv')\n",
    "```"
   ]
  },
  {
   "cell_type": "markdown",
   "metadata": {},
   "source": [
    "O código acima lê uma base de dados e executa as seguintes transformações em sequência:\n",
    "\n",
    "- Remove as linhas que contenham *null* nas colunas `col1` e `col2`\n",
    "- Converte a coluna `col3` de *bool* (`True`, `False`) para *int* (`1`, `0`)\n",
    "- Remove as colunas `nosense_col1` e `nosense_col2`\n",
    "- Preenche os valores *null* das colunas `col_with_nulls` e `another_col_with_nulls` com suas respectivas médias\n",
    "- Preenche os valores *null* das colunas `col_with_nulls2` e `col_with_nulls3` com o valor fixo `-1`\n",
    "- Aplica a função `custom_fn` no *dataframe*. Funções customizadas podem ser escritas para se encaixarem no pipeline, só precisam receber como parâmetro o *dataframe* e retornar o *dataframe* modificado\n",
    "- Remove todos os *nulls* do *dataframe*"
   ]
  },
  {
   "cell_type": "markdown",
   "metadata": {},
   "source": [
    "<a id=\"challenges\"></a>\n",
    "## Desafios"
   ]
  },
  {
   "cell_type": "markdown",
   "metadata": {},
   "source": [
    "<a id=\"nubank-data-challenge\"></a>\n",
    "### Nubank\n",
    "\n"
   ]
  },
  {
   "cell_type": "markdown",
   "metadata": {},
   "source": [
    "<a id=\"ambev-data-challenge\"></a>\n",
    "### Ambev"
   ]
  },
  {
   "cell_type": "markdown",
   "metadata": {},
   "source": [
    "## NLP\n",
    "<a id=\"nlp\"></a>"
   ]
  },
  {
   "cell_type": "markdown",
   "metadata": {},
   "source": [
    "### TV Script Generation\n",
    "<a id=\"tv-script-generation\"></a>"
   ]
  },
  {
   "cell_type": "markdown",
   "metadata": {},
   "source": [
    "### Keyword Extraction\n",
    "<a id=\"keyword-extraction\"></a>"
   ]
  },
  {
   "cell_type": "markdown",
   "metadata": {},
   "source": [
    "### Language Translation\n",
    "<a id=\"language-translation\"></a>"
   ]
  },
  {
   "cell_type": "markdown",
   "metadata": {},
   "source": [
    "## Processamento de Imagem\n",
    "<a id=\"image\"></a>"
   ]
  },
  {
   "cell_type": "markdown",
   "metadata": {},
   "source": [
    "### Face Generation\n",
    "<a id=\"face-generation\"></a>"
   ]
  },
  {
   "cell_type": "markdown",
   "metadata": {},
   "source": [
    "### Classificação de Imagens\n",
    "<a id=\"cifar-10-image-classification\"></a>"
   ]
  },
  {
   "cell_type": "markdown",
   "metadata": {},
   "source": [
    "## Churn\n",
    "<a id=\"churn\"></a>"
   ]
  },
  {
   "cell_type": "markdown",
   "metadata": {},
   "source": [
    "### Churn em Telecom (WIP)\n",
    "<a id=\"telco_churn\"></a>"
   ]
  },
  {
   "cell_type": "markdown",
   "metadata": {},
   "source": [
    "## Outros Projetos\n",
    "<a id=\"outros\"></a>"
   ]
  },
  {
   "cell_type": "markdown",
   "metadata": {},
   "source": [
    "### Bike Sharing\n",
    "<a id=\"bike-sharing-neural-network\"></a>"
   ]
  },
  {
   "cell_type": "code",
   "execution_count": null,
   "metadata": {},
   "outputs": [],
   "source": []
  }
 ],
 "metadata": {
  "kernelspec": {
   "display_name": "Python 3",
   "language": "python",
   "name": "python3"
  },
  "language_info": {
   "codemirror_mode": {
    "name": "ipython",
    "version": 3
   },
   "file_extension": ".py",
   "mimetype": "text/x-python",
   "name": "python",
   "nbconvert_exporter": "python",
   "pygments_lexer": "ipython3",
   "version": "3.7.3"
  }
 },
 "nbformat": 4,
 "nbformat_minor": 4
}
